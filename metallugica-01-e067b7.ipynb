{
 "cells": [
  {
   "cell_type": "code",
   "execution_count": 1,
   "metadata": {
    "execution": {
     "iopub.execute_input": "2025-04-06T08:18:08.854243Z",
     "iopub.status.busy": "2025-04-06T08:18:08.853878Z",
     "iopub.status.idle": "2025-04-06T08:18:19.795327Z",
     "shell.execute_reply": "2025-04-06T08:18:19.794188Z",
     "shell.execute_reply.started": "2025-04-06T08:18:08.854205Z"
    },
    "trusted": true
   },
   "outputs": [
    {
     "name": "stdout",
     "output_type": "stream",
     "text": [
      "Requirement already satisfied: catboost in /usr/local/lib/python3.10/dist-packages (1.2.7)\n",
      "Requirement already satisfied: graphviz in /usr/local/lib/python3.10/dist-packages (from catboost) (0.20.3)\n",
      "Requirement already satisfied: matplotlib in /usr/local/lib/python3.10/dist-packages (from catboost) (3.7.5)\n",
      "Requirement already satisfied: numpy<2.0,>=1.16.0 in /usr/local/lib/python3.10/dist-packages (from catboost) (1.26.4)\n",
      "Requirement already satisfied: pandas>=0.24 in /usr/local/lib/python3.10/dist-packages (from catboost) (2.2.3)\n",
      "Requirement already satisfied: scipy in /usr/local/lib/python3.10/dist-packages (from catboost) (1.13.1)\n",
      "Requirement already satisfied: plotly in /usr/local/lib/python3.10/dist-packages (from catboost) (5.24.1)\n",
      "Requirement already satisfied: six in /usr/local/lib/python3.10/dist-packages (from catboost) (1.17.0)\n",
      "Requirement already satisfied: mkl_fft in /usr/local/lib/python3.10/dist-packages (from numpy<2.0,>=1.16.0->catboost) (1.3.8)\n",
      "Requirement already satisfied: mkl_random in /usr/local/lib/python3.10/dist-packages (from numpy<2.0,>=1.16.0->catboost) (1.2.4)\n",
      "Requirement already satisfied: mkl_umath in /usr/local/lib/python3.10/dist-packages (from numpy<2.0,>=1.16.0->catboost) (0.1.1)\n",
      "Requirement already satisfied: mkl in /usr/local/lib/python3.10/dist-packages (from numpy<2.0,>=1.16.0->catboost) (2025.0.1)\n",
      "Requirement already satisfied: tbb4py in /usr/local/lib/python3.10/dist-packages (from numpy<2.0,>=1.16.0->catboost) (2022.0.0)\n",
      "Requirement already satisfied: mkl-service in /usr/local/lib/python3.10/dist-packages (from numpy<2.0,>=1.16.0->catboost) (2.4.1)\n",
      "Requirement already satisfied: python-dateutil>=2.8.2 in /usr/local/lib/python3.10/dist-packages (from pandas>=0.24->catboost) (2.9.0.post0)\n",
      "Requirement already satisfied: pytz>=2020.1 in /usr/local/lib/python3.10/dist-packages (from pandas>=0.24->catboost) (2025.1)\n",
      "Requirement already satisfied: tzdata>=2022.7 in /usr/local/lib/python3.10/dist-packages (from pandas>=0.24->catboost) (2025.1)\n",
      "Requirement already satisfied: contourpy>=1.0.1 in /usr/local/lib/python3.10/dist-packages (from matplotlib->catboost) (1.3.1)\n",
      "Requirement already satisfied: cycler>=0.10 in /usr/local/lib/python3.10/dist-packages (from matplotlib->catboost) (0.12.1)\n",
      "Requirement already satisfied: fonttools>=4.22.0 in /usr/local/lib/python3.10/dist-packages (from matplotlib->catboost) (4.55.3)\n",
      "Requirement already satisfied: kiwisolver>=1.0.1 in /usr/local/lib/python3.10/dist-packages (from matplotlib->catboost) (1.4.7)\n",
      "Requirement already satisfied: packaging>=20.0 in /usr/local/lib/python3.10/dist-packages (from matplotlib->catboost) (24.2)\n",
      "Requirement already satisfied: pillow>=6.2.0 in /usr/local/lib/python3.10/dist-packages (from matplotlib->catboost) (11.0.0)\n",
      "Requirement already satisfied: pyparsing>=2.3.1 in /usr/local/lib/python3.10/dist-packages (from matplotlib->catboost) (3.2.0)\n",
      "Requirement already satisfied: tenacity>=6.2.0 in /usr/local/lib/python3.10/dist-packages (from plotly->catboost) (9.0.0)\n",
      "Requirement already satisfied: intel-openmp>=2024 in /usr/local/lib/python3.10/dist-packages (from mkl->numpy<2.0,>=1.16.0->catboost) (2024.2.0)\n",
      "Requirement already satisfied: tbb==2022.* in /usr/local/lib/python3.10/dist-packages (from mkl->numpy<2.0,>=1.16.0->catboost) (2022.0.0)\n",
      "Requirement already satisfied: tcmlib==1.* in /usr/local/lib/python3.10/dist-packages (from tbb==2022.*->mkl->numpy<2.0,>=1.16.0->catboost) (1.2.0)\n",
      "Requirement already satisfied: intel-cmplr-lib-rt in /usr/local/lib/python3.10/dist-packages (from mkl_umath->numpy<2.0,>=1.16.0->catboost) (2024.2.0)\n",
      "Requirement already satisfied: intel-cmplr-lib-ur==2024.2.0 in /usr/local/lib/python3.10/dist-packages (from intel-openmp>=2024->mkl->numpy<2.0,>=1.16.0->catboost) (2024.2.0)\n"
     ]
    }
   ],
   "source": [
    "import pandas as pd\n",
    "import numpy as np\n",
    "import matplotlib.pyplot as plt\n",
    "import seaborn as sns\n",
    "!pip install catboost\n",
    "from catboost import CatBoostRegressor\n",
    "from sklearn.model_selection import train_test_split, cross_val_score, GridSearchCV\n",
    "from sklearn.preprocessing import StandardScaler, OneHotEncoder\n",
    "from sklearn.compose import ColumnTransformer\n",
    "from sklearn.pipeline import Pipeline\n",
    "from sklearn.impute import SimpleImputer\n",
    "from sklearn.ensemble import RandomForestRegressor, GradientBoostingRegressor, StackingRegressor\n",
    "from sklearn.linear_model import ElasticNet, Ridge, Lasso\n",
    "from sklearn.metrics import mean_absolute_error\n",
    "from xgboost import XGBRegressor\n",
    "from lightgbm import LGBMRegressor\n",
    "import warnings\n",
    "warnings.filterwarnings('ignore')"
   ]
  },
  {
   "cell_type": "code",
   "execution_count": 2,
   "metadata": {
    "execution": {
     "iopub.execute_input": "2025-04-06T08:18:19.797410Z",
     "iopub.status.busy": "2025-04-06T08:18:19.796691Z",
     "iopub.status.idle": "2025-04-06T08:18:19.856872Z",
     "shell.execute_reply": "2025-04-06T08:18:19.855822Z",
     "shell.execute_reply.started": "2025-04-06T08:18:19.797373Z"
    },
    "trusted": true
   },
   "outputs": [],
   "source": [
    "train_data = pd.read_csv('/kaggle/input/metallurgica2025/train.csv')\n",
    "test_data = pd.read_csv(\"/kaggle/input/metallurgica2025/test.csv\")"
   ]
  },
  {
   "cell_type": "code",
   "execution_count": 3,
   "metadata": {
    "execution": {
     "iopub.execute_input": "2025-04-06T08:18:19.858322Z",
     "iopub.status.busy": "2025-04-06T08:18:19.857961Z",
     "iopub.status.idle": "2025-04-06T08:18:19.905275Z",
     "shell.execute_reply": "2025-04-06T08:18:19.904284Z",
     "shell.execute_reply.started": "2025-04-06T08:18:19.858284Z"
    },
    "trusted": true
   },
   "outputs": [
    {
     "name": "stdout",
     "output_type": "stream",
     "text": [
      "(1600, 41)\n"
     ]
    },
    {
     "data": {
      "text/html": [
       "<div>\n",
       "<style scoped>\n",
       "    .dataframe tbody tr th:only-of-type {\n",
       "        vertical-align: middle;\n",
       "    }\n",
       "\n",
       "    .dataframe tbody tr th {\n",
       "        vertical-align: top;\n",
       "    }\n",
       "\n",
       "    .dataframe thead th {\n",
       "        text-align: right;\n",
       "    }\n",
       "</style>\n",
       "<table border=\"1\" class=\"dataframe\">\n",
       "  <thead>\n",
       "    <tr style=\"text-align: right;\">\n",
       "      <th></th>\n",
       "      <th>ID</th>\n",
       "      <th>Alloy formula</th>\n",
       "      <th>Alloy class</th>\n",
       "      <th>Cu</th>\n",
       "      <th>Al</th>\n",
       "      <th>Ag</th>\n",
       "      <th>B</th>\n",
       "      <th>Be</th>\n",
       "      <th>Ca</th>\n",
       "      <th>Co</th>\n",
       "      <th>...</th>\n",
       "      <th>tss (h)</th>\n",
       "      <th>CR reduction (%)</th>\n",
       "      <th>Aging</th>\n",
       "      <th>Tag (K)</th>\n",
       "      <th>tag (h)</th>\n",
       "      <th>Secondary thermo-mechanical process</th>\n",
       "      <th>Hardness (HV)</th>\n",
       "      <th>Yield strength (MPa)</th>\n",
       "      <th>Ultimate tensile strength (MPa)</th>\n",
       "      <th>Electrical conductivity (%IACS)</th>\n",
       "    </tr>\n",
       "  </thead>\n",
       "  <tbody>\n",
       "    <tr>\n",
       "      <th>0</th>\n",
       "      <td>969</td>\n",
       "      <td>Cu-6Ni-1Si-0.5Al-0.15Mg-0.1Cr</td>\n",
       "      <td>Cu low alloyed</td>\n",
       "      <td>95.557137</td>\n",
       "      <td>0.246150</td>\n",
       "      <td>0.000075</td>\n",
       "      <td>0.00000</td>\n",
       "      <td>0.000000</td>\n",
       "      <td>0</td>\n",
       "      <td>0.000000</td>\n",
       "      <td>...</td>\n",
       "      <td>3.972130</td>\n",
       "      <td>4.366903</td>\n",
       "      <td>Y</td>\n",
       "      <td>778.447643</td>\n",
       "      <td>4.447236</td>\n",
       "      <td>N</td>\n",
       "      <td>163.585875</td>\n",
       "      <td>NaN</td>\n",
       "      <td>NaN</td>\n",
       "      <td>22.067010</td>\n",
       "    </tr>\n",
       "    <tr>\n",
       "      <th>1</th>\n",
       "      <td>241</td>\n",
       "      <td>Cu-4.5Ni-1Si-1.2Co-0.15Mg</td>\n",
       "      <td>Cu-Ni-Si alloys</td>\n",
       "      <td>95.083982</td>\n",
       "      <td>0.001252</td>\n",
       "      <td>0.000000</td>\n",
       "      <td>0.00000</td>\n",
       "      <td>0.000947</td>\n",
       "      <td>0</td>\n",
       "      <td>0.000000</td>\n",
       "      <td>...</td>\n",
       "      <td>NaN</td>\n",
       "      <td>90.214778</td>\n",
       "      <td>Y</td>\n",
       "      <td>NaN</td>\n",
       "      <td>0.000000</td>\n",
       "      <td>N</td>\n",
       "      <td>300.692142</td>\n",
       "      <td>567.094341</td>\n",
       "      <td>NaN</td>\n",
       "      <td>43.761314</td>\n",
       "    </tr>\n",
       "    <tr>\n",
       "      <th>2</th>\n",
       "      <td>820</td>\n",
       "      <td>Cu-4.5Ni-1Si-1.2Co-0.15Mg</td>\n",
       "      <td>Cu-Ni-Si alloys</td>\n",
       "      <td>91.894209</td>\n",
       "      <td>0.022183</td>\n",
       "      <td>0.000000</td>\n",
       "      <td>0.00326</td>\n",
       "      <td>0.000000</td>\n",
       "      <td>0</td>\n",
       "      <td>0.008681</td>\n",
       "      <td>...</td>\n",
       "      <td>4.064446</td>\n",
       "      <td>0.243155</td>\n",
       "      <td>Y</td>\n",
       "      <td>637.878753</td>\n",
       "      <td>0.887991</td>\n",
       "      <td>N</td>\n",
       "      <td>327.858374</td>\n",
       "      <td>NaN</td>\n",
       "      <td>NaN</td>\n",
       "      <td>36.114651</td>\n",
       "    </tr>\n",
       "    <tr>\n",
       "      <th>3</th>\n",
       "      <td>693</td>\n",
       "      <td>Cu-4.0Ni-2.0Si</td>\n",
       "      <td>Cu-Ni-Si alloys</td>\n",
       "      <td>92.624741</td>\n",
       "      <td>0.000000</td>\n",
       "      <td>0.000000</td>\n",
       "      <td>0.00000</td>\n",
       "      <td>0.015469</td>\n",
       "      <td>0</td>\n",
       "      <td>0.000438</td>\n",
       "      <td>...</td>\n",
       "      <td>7.041734</td>\n",
       "      <td>0.000000</td>\n",
       "      <td>Y</td>\n",
       "      <td>772.859083</td>\n",
       "      <td>0.535209</td>\n",
       "      <td>Y</td>\n",
       "      <td>331.311269</td>\n",
       "      <td>NaN</td>\n",
       "      <td>NaN</td>\n",
       "      <td>26.008459</td>\n",
       "    </tr>\n",
       "    <tr>\n",
       "      <th>4</th>\n",
       "      <td>421</td>\n",
       "      <td>Cu-0.28Cr-0.19Mg</td>\n",
       "      <td>Cu-Ni-Si alloys</td>\n",
       "      <td>95.575242</td>\n",
       "      <td>0.009056</td>\n",
       "      <td>0.000000</td>\n",
       "      <td>0.00000</td>\n",
       "      <td>0.008676</td>\n",
       "      <td>0</td>\n",
       "      <td>0.000000</td>\n",
       "      <td>...</td>\n",
       "      <td>27.770000</td>\n",
       "      <td>0.000000</td>\n",
       "      <td>Y</td>\n",
       "      <td>768.312615</td>\n",
       "      <td>NaN</td>\n",
       "      <td>N</td>\n",
       "      <td>83.737011</td>\n",
       "      <td>NaN</td>\n",
       "      <td>NaN</td>\n",
       "      <td>29.370901</td>\n",
       "    </tr>\n",
       "  </tbody>\n",
       "</table>\n",
       "<p>5 rows × 41 columns</p>\n",
       "</div>"
      ],
      "text/plain": [
       "    ID                  Alloy formula      Alloy class         Cu        Al  \\\n",
       "0  969  Cu-6Ni-1Si-0.5Al-0.15Mg-0.1Cr   Cu low alloyed  95.557137  0.246150   \n",
       "1  241      Cu-4.5Ni-1Si-1.2Co-0.15Mg  Cu-Ni-Si alloys  95.083982  0.001252   \n",
       "2  820      Cu-4.5Ni-1Si-1.2Co-0.15Mg  Cu-Ni-Si alloys  91.894209  0.022183   \n",
       "3  693                 Cu-4.0Ni-2.0Si  Cu-Ni-Si alloys  92.624741  0.000000   \n",
       "4  421               Cu-0.28Cr-0.19Mg  Cu-Ni-Si alloys  95.575242  0.009056   \n",
       "\n",
       "         Ag        B        Be  Ca        Co  ...    tss (h)  \\\n",
       "0  0.000075  0.00000  0.000000   0  0.000000  ...   3.972130   \n",
       "1  0.000000  0.00000  0.000947   0  0.000000  ...        NaN   \n",
       "2  0.000000  0.00326  0.000000   0  0.008681  ...   4.064446   \n",
       "3  0.000000  0.00000  0.015469   0  0.000438  ...   7.041734   \n",
       "4  0.000000  0.00000  0.008676   0  0.000000  ...  27.770000   \n",
       "\n",
       "   CR reduction (%)  Aging     Tag (K)   tag (h)  \\\n",
       "0          4.366903      Y  778.447643  4.447236   \n",
       "1         90.214778      Y         NaN  0.000000   \n",
       "2          0.243155      Y  637.878753  0.887991   \n",
       "3          0.000000      Y  772.859083  0.535209   \n",
       "4          0.000000      Y  768.312615       NaN   \n",
       "\n",
       "   Secondary thermo-mechanical process  Hardness (HV)  Yield strength (MPa)  \\\n",
       "0                                    N     163.585875                   NaN   \n",
       "1                                    N     300.692142            567.094341   \n",
       "2                                    N     327.858374                   NaN   \n",
       "3                                    Y     331.311269                   NaN   \n",
       "4                                    N      83.737011                   NaN   \n",
       "\n",
       "   Ultimate tensile strength (MPa)  Electrical conductivity (%IACS)  \n",
       "0                              NaN                        22.067010  \n",
       "1                              NaN                        43.761314  \n",
       "2                              NaN                        36.114651  \n",
       "3                              NaN                        26.008459  \n",
       "4                              NaN                        29.370901  \n",
       "\n",
       "[5 rows x 41 columns]"
      ]
     },
     "execution_count": 3,
     "metadata": {},
     "output_type": "execute_result"
    }
   ],
   "source": [
    "print(train_data.shape)\n",
    "train_data.head()"
   ]
  },
  {
   "cell_type": "code",
   "execution_count": 4,
   "metadata": {
    "execution": {
     "iopub.execute_input": "2025-04-06T08:18:19.906744Z",
     "iopub.status.busy": "2025-04-06T08:18:19.906372Z",
     "iopub.status.idle": "2025-04-06T08:18:19.928870Z",
     "shell.execute_reply": "2025-04-06T08:18:19.927918Z",
     "shell.execute_reply.started": "2025-04-06T08:18:19.906698Z"
    },
    "trusted": true
   },
   "outputs": [
    {
     "name": "stdout",
     "output_type": "stream",
     "text": [
      "<class 'pandas.core.frame.DataFrame'>\n",
      "RangeIndex: 1600 entries, 0 to 1599\n",
      "Data columns (total 41 columns):\n",
      " #   Column                               Non-Null Count  Dtype  \n",
      "---  ------                               --------------  -----  \n",
      " 0   ID                                   1600 non-null   int64  \n",
      " 1   Alloy formula                        1600 non-null   object \n",
      " 2   Alloy class                          1600 non-null   object \n",
      " 3   Cu                                   1600 non-null   float64\n",
      " 4   Al                                   1600 non-null   float64\n",
      " 5   Ag                                   1600 non-null   float64\n",
      " 6   B                                    1600 non-null   float64\n",
      " 7   Be                                   1600 non-null   float64\n",
      " 8   Ca                                   1600 non-null   int64  \n",
      " 9   Co                                   1600 non-null   float64\n",
      " 10  Ce                                   1600 non-null   float64\n",
      " 11  Cr                                   1600 non-null   float64\n",
      " 12  Fe                                   1600 non-null   float64\n",
      " 13  Hf                                   1600 non-null   int64  \n",
      " 14  La                                   1600 non-null   int64  \n",
      " 15  Mg                                   1600 non-null   float64\n",
      " 16  Mn                                   1600 non-null   int64  \n",
      " 17  Mo                                   1600 non-null   int64  \n",
      " 18  Nb                                   1600 non-null   int64  \n",
      " 19  Nd                                   1600 non-null   int64  \n",
      " 20  Ni                                   1600 non-null   float64\n",
      " 21  P                                    1600 non-null   float64\n",
      " 22  Pb                                   1600 non-null   int64  \n",
      " 23  Pr                                   1600 non-null   int64  \n",
      " 24  Si                                   1600 non-null   float64\n",
      " 25  Sn                                   1600 non-null   float64\n",
      " 26  Ti                                   1600 non-null   float64\n",
      " 27  V                                    1600 non-null   float64\n",
      " 28  Zn                                   1600 non-null   float64\n",
      " 29  Zr                                   1600 non-null   float64\n",
      " 30  Tss (K)                              1558 non-null   float64\n",
      " 31  tss (h)                              1532 non-null   float64\n",
      " 32  CR reduction (%)                     1600 non-null   float64\n",
      " 33  Aging                                1600 non-null   object \n",
      " 34  Tag (K)                              1541 non-null   float64\n",
      " 35  tag (h)                              1515 non-null   float64\n",
      " 36  Secondary thermo-mechanical process  1572 non-null   object \n",
      " 37  Hardness (HV)                        1425 non-null   float64\n",
      " 38  Yield strength (MPa)                 160 non-null    float64\n",
      " 39  Ultimate tensile strength (MPa)      247 non-null    float64\n",
      " 40  Electrical conductivity (%IACS)      1598 non-null   float64\n",
      "dtypes: float64(27), int64(10), object(4)\n",
      "memory usage: 512.6+ KB\n"
     ]
    }
   ],
   "source": [
    "train_data.info()"
   ]
  },
  {
   "cell_type": "code",
   "execution_count": 5,
   "metadata": {
    "execution": {
     "iopub.execute_input": "2025-04-06T08:18:19.930123Z",
     "iopub.status.busy": "2025-04-06T08:18:19.929793Z",
     "iopub.status.idle": "2025-04-06T08:18:19.939562Z",
     "shell.execute_reply": "2025-04-06T08:18:19.938713Z",
     "shell.execute_reply.started": "2025-04-06T08:18:19.930085Z"
    },
    "trusted": true
   },
   "outputs": [
    {
     "data": {
      "text/plain": [
       "(1598, 41)"
      ]
     },
     "execution_count": 5,
     "metadata": {},
     "output_type": "execute_result"
    }
   ],
   "source": [
    "target = 'Electrical conductivity (%IACS)'\n",
    "train_data = train_data.dropna(subset=[target])\n",
    "train_data.shape"
   ]
  },
  {
   "cell_type": "code",
   "execution_count": 6,
   "metadata": {
    "execution": {
     "iopub.execute_input": "2025-04-06T08:18:19.942148Z",
     "iopub.status.busy": "2025-04-06T08:18:19.941848Z",
     "iopub.status.idle": "2025-04-06T08:18:19.960628Z",
     "shell.execute_reply": "2025-04-06T08:18:19.959656Z",
     "shell.execute_reply.started": "2025-04-06T08:18:19.942123Z"
    },
    "trusted": true
   },
   "outputs": [
    {
     "data": {
      "text/plain": [
       "array(['Cu low alloyed', 'Cu-Ni-Si alloys', 'Cu-Ti alloys',\n",
       "       'Cu-Be alloys'], dtype=object)"
      ]
     },
     "execution_count": 6,
     "metadata": {},
     "output_type": "execute_result"
    }
   ],
   "source": [
    "train_data['Alloy class'].unique() "
   ]
  },
  {
   "cell_type": "code",
   "execution_count": 7,
   "metadata": {
    "execution": {
     "iopub.execute_input": "2025-04-06T08:18:19.965167Z",
     "iopub.status.busy": "2025-04-06T08:18:19.964761Z",
     "iopub.status.idle": "2025-04-06T08:18:19.989979Z",
     "shell.execute_reply": "2025-04-06T08:18:19.989026Z",
     "shell.execute_reply.started": "2025-04-06T08:18:19.965121Z"
    },
    "trusted": true
   },
   "outputs": [
    {
     "name": "stdout",
     "output_type": "stream",
     "text": [
      "\n",
      "Top correlations with Electrical conductivity:\n",
      "Electrical conductivity (%IACS)    1.000000\n",
      "Ce                                 0.038213\n",
      "Be                                 0.036596\n",
      "Mg                                 0.032796\n",
      "Zn                                 0.032528\n",
      "Ni                                 0.030969\n",
      "P                                  0.030443\n",
      "Ag                                 0.030295\n",
      "Zr                                 0.029891\n",
      "Tss (K)                            0.028979\n",
      "Tag (K)                            0.022701\n",
      "tss (h)                            0.015568\n",
      "Sn                                 0.010761\n",
      "CR reduction (%)                   0.004557\n",
      "Al                                -0.002062\n",
      "Name: Electrical conductivity (%IACS), dtype: float64\n"
     ]
    }
   ],
   "source": [
    "# Correlation with target\n",
    "numeric_cols = train_data.select_dtypes(include=['float64', 'int64']).columns\n",
    "correlations = train_data[numeric_cols].corr()[target].sort_values(ascending=False)\n",
    "print(\"\\nTop correlations with Electrical conductivity:\")\n",
    "print(correlations.head(15))"
   ]
  },
  {
   "cell_type": "code",
   "execution_count": 8,
   "metadata": {
    "execution": {
     "iopub.execute_input": "2025-04-06T08:18:19.991421Z",
     "iopub.status.busy": "2025-04-06T08:18:19.991071Z",
     "iopub.status.idle": "2025-04-06T08:18:19.999725Z",
     "shell.execute_reply": "2025-04-06T08:18:19.998768Z",
     "shell.execute_reply.started": "2025-04-06T08:18:19.991392Z"
    },
    "trusted": true
   },
   "outputs": [
    {
     "name": "stdout",
     "output_type": "stream",
     "text": [
      "Columns with more than 80% missing values: ['Yield strength (MPa)', 'Ultimate tensile strength (MPa)']\n"
     ]
    }
   ],
   "source": [
    "missing_percentages = (train_data.isnull().sum() / len(train_data)) * 100\n",
    "high_missing_cols = missing_percentages[missing_percentages > 80].index.tolist()\n",
    "print(\"Columns with more than 80% missing values:\", high_missing_cols)\n",
    "\n",
    "# Features aur target alag karna with removed columns\n",
    "train_data = train_data.drop(columns=high_missing_cols)"
   ]
  },
  {
   "cell_type": "code",
   "execution_count": 9,
   "metadata": {
    "execution": {
     "iopub.execute_input": "2025-04-06T08:18:20.001263Z",
     "iopub.status.busy": "2025-04-06T08:18:20.000879Z",
     "iopub.status.idle": "2025-04-06T08:18:20.019753Z",
     "shell.execute_reply": "2025-04-06T08:18:20.018738Z",
     "shell.execute_reply.started": "2025-04-06T08:18:20.001227Z"
    },
    "trusted": true
   },
   "outputs": [
    {
     "name": "stdout",
     "output_type": "stream",
     "text": [
      "Missing values per column:\n",
      "Tss (K)                                 42\n",
      "tss (h)                                 68\n",
      "Tag (K)                                 59\n",
      "tag (h)                                 85\n",
      "Secondary thermo-mechanical process     28\n",
      "Hardness (HV)                          175\n",
      "dtype: int64\n"
     ]
    }
   ],
   "source": [
    "# Check for missing values\n",
    "missing_values = train_data.isnull().sum()\n",
    "print(\"Missing values per column:\")\n",
    "print(missing_values[missing_values > 0])"
   ]
  },
  {
   "cell_type": "code",
   "execution_count": 10,
   "metadata": {
    "execution": {
     "iopub.execute_input": "2025-04-06T08:18:20.021274Z",
     "iopub.status.busy": "2025-04-06T08:18:20.020880Z",
     "iopub.status.idle": "2025-04-06T08:18:20.041861Z",
     "shell.execute_reply": "2025-04-06T08:18:20.040829Z",
     "shell.execute_reply.started": "2025-04-06T08:18:20.021238Z"
    },
    "trusted": true
   },
   "outputs": [
    {
     "name": "stdout",
     "output_type": "stream",
     "text": [
      "Categorical columns: ['Alloy class', 'Aging', 'Secondary thermo-mechanical process']\n",
      "Numerical columns: 33\n"
     ]
    }
   ],
   "source": [
    "# Combine train and test for preprocessing\n",
    "train_id = train_data['ID']\n",
    "test_id = test_data['ID']\n",
    "target = train_data['Electrical conductivity (%IACS)']\n",
    "\n",
    "# Drop ID and target from train\n",
    "train_features = train_data.drop(['ID',  'Alloy formula','Electrical conductivity (%IACS)'], axis=1)\n",
    "test_features = test_data.drop(['ID','Alloy formula'], axis=1)\n",
    "\n",
    "# Identify categorical and numerical columns\n",
    "categorical_cols = train_features.select_dtypes(include=['object']).columns.tolist()\n",
    "numerical_cols = train_features.select_dtypes(include=['int64', 'float64']).columns.tolist()\n",
    "\n",
    "print(f\"Categorical columns: {categorical_cols}\")\n",
    "print(f\"Numerical columns: {len(numerical_cols)}\")"
   ]
  },
  {
   "cell_type": "code",
   "execution_count": 11,
   "metadata": {
    "execution": {
     "iopub.execute_input": "2025-04-06T08:18:20.043864Z",
     "iopub.status.busy": "2025-04-06T08:18:20.043464Z",
     "iopub.status.idle": "2025-04-06T08:18:20.074771Z",
     "shell.execute_reply": "2025-04-06T08:18:20.073629Z",
     "shell.execute_reply.started": "2025-04-06T08:18:20.043823Z"
    },
    "trusted": true
   },
   "outputs": [],
   "source": [
    "def engineer_features(df):\n",
    "    # Create a copy to avoid modifying the original dataframe\n",
    "    df_new = df.copy()\n",
    "    \n",
    "    # Extract element ratios that might be important for conductivity\n",
    "    # Cu to Al ratio (copper is highly conductive, aluminum less so)\n",
    "    df_new['Cu_Al_ratio'] = df_new['Cu'] / (df_new['Al'] + 0.001)\n",
    "    \n",
    "    # Sum of highly conductive elements\n",
    "    df_new['conductive_elements_sum'] = df_new['Cu'] + df_new['Ag'] + df_new['Au'] if 'Au' in df_new.columns else df_new['Cu'] + df_new['Ag']\n",
    "    \n",
    "    # Sum of alloying elements\n",
    "    df_new['total_alloying'] = df_new[numerical_cols].sum(axis=1)\n",
    "    \n",
    "    # Temperature and time interaction for thermal processes\n",
    "    df_new['thermal_factor'] = df_new['Tss (K)'] * np.log1p(df_new['tss (h)'])\n",
    "    df_new['aging_factor'] = df_new['Tag (K)'] * np.log1p(df_new['tag (h)'])\n",
    "    \n",
    "    # Interaction between mechanical properties\n",
    "    if 'Hardness (HV)' in df_new.columns and 'Yield strength (MPa)' in df_new.columns:\n",
    "        df_new['hardness_yield_ratio'] = df_new['Hardness (HV)'] / (df_new['Yield strength (MPa)'] + 0.001)\n",
    "    \n",
    "    return df_new\n",
    "\n",
    "# Apply feature engineering\n",
    "train_features = engineer_features(train_features)\n",
    "test_features = engineer_features(test_features)"
   ]
  },
  {
   "cell_type": "code",
   "execution_count": 12,
   "metadata": {
    "execution": {
     "iopub.execute_input": "2025-04-06T08:18:20.076399Z",
     "iopub.status.busy": "2025-04-06T08:18:20.076033Z",
     "iopub.status.idle": "2025-04-06T08:18:20.082093Z",
     "shell.execute_reply": "2025-04-06T08:18:20.081167Z",
     "shell.execute_reply.started": "2025-04-06T08:18:20.076364Z"
    },
    "trusted": true
   },
   "outputs": [],
   "source": [
    "preprocessor = ColumnTransformer(\n",
    "    transformers=[\n",
    "        ('num', Pipeline(steps=[\n",
    "            ('imputer', SimpleImputer(strategy='mean')),   \n",
    "            ('scaler', StandardScaler()) \n",
    "        ]), numerical_cols),\n",
    "        ('cat', Pipeline(steps=[\n",
    "            ('imputer', SimpleImputer(strategy='constant', fill_value='missing')), \n",
    "            ('onehot', OneHotEncoder(handle_unknown='ignore'))  \n",
    "        ]), categorical_cols)\n",
    "    ])"
   ]
  },
  {
   "cell_type": "code",
   "execution_count": 13,
   "metadata": {
    "execution": {
     "iopub.execute_input": "2025-04-06T08:18:20.083232Z",
     "iopub.status.busy": "2025-04-06T08:18:20.082974Z",
     "iopub.status.idle": "2025-04-06T08:18:20.885820Z",
     "shell.execute_reply": "2025-04-06T08:18:20.884744Z",
     "shell.execute_reply.started": "2025-04-06T08:18:20.083201Z"
    },
    "trusted": true
   },
   "outputs": [
    {
     "name": "stdout",
     "output_type": "stream",
     "text": [
      "0:\tlearn: 13.8326971\ttotal: 54.9ms\tremaining: 27.4s\n",
      "100:\tlearn: 13.1498206\ttotal: 165ms\tremaining: 650ms\n",
      "200:\tlearn: 12.7341079\ttotal: 275ms\tremaining: 409ms\n",
      "300:\tlearn: 12.3473247\ttotal: 388ms\tremaining: 256ms\n",
      "400:\tlearn: 11.9571039\ttotal: 497ms\tremaining: 123ms\n",
      "499:\tlearn: 11.6410655\ttotal: 607ms\tremaining: 0us\n",
      "Validation MAE: 12.9885\n"
     ]
    }
   ],
   "source": [
    "# Split the training data for validation\n",
    "X_train, X_val, y_train, y_val = train_test_split(train_features, target, test_size=0.01, random_state=42)\n",
    "\n",
    "# Define base models for stacking\n",
    "base_models = [\n",
    "    ('rf', RandomForestRegressor(n_estimators=200, random_state=42)),\n",
    "    ('gbr', GradientBoostingRegressor(n_estimators=200, random_state=42)),\n",
    "    ('xgb', XGBRegressor(n_estimators=200, learning_rate=0.05, random_state=42)),\n",
    "    ('lgbm', LGBMRegressor(n_estimators=200, learning_rate=0.05, random_state=42)),\n",
    "    ('ridge', Ridge(alpha=1.0, random_state=42)),\n",
    "    ('lasso', Lasso(alpha=0.01, random_state=42)),\n",
    "    ('elasticnet', ElasticNet(alpha=0.01, l1_ratio=0.5, random_state=42))\n",
    "]\n",
    "\n",
    "# Create the stacking ensemble\n",
    "stacking_regressor = StackingRegressor(\n",
    "    estimators=base_models,\n",
    "    final_estimator=Ridge(random_state=42)\n",
    ")\n",
    "\n",
    "# Create the full pipeline\n",
    "# model_pipeline = Pipeline(steps=[\n",
    "#     ('preprocessor', preprocessor),\n",
    "#     ('model', stacking_regressor)\n",
    "# ])\n",
    "\n",
    "model_pipeline = Pipeline(steps=[\n",
    "    ('preprocessor', preprocessor),\n",
    "    ('model', CatBoostRegressor(\n",
    "        iterations=500,\n",
    "        learning_rate=0.03,\n",
    "        depth=3,\n",
    "        loss_function='MAE',  # Using MAE as loss function since that's our evaluation metric\n",
    "        verbose=100,  # Print progress every 100 iterations\n",
    "        random_seed=42\n",
    "    ))\n",
    "])\n",
    "\n",
    "# Train the model\n",
    "model_pipeline.fit(X_train, y_train)\n",
    "\n",
    "# Evaluate on validation set\n",
    "val_predictions = model_pipeline.predict(X_val)\n",
    "val_mae = mean_absolute_error(y_val, val_predictions)\n",
    "print(f\"Validation MAE: {val_mae:.4f}\")"
   ]
  },
  {
   "cell_type": "code",
   "execution_count": 14,
   "metadata": {
    "execution": {
     "iopub.execute_input": "2025-04-06T08:18:20.887261Z",
     "iopub.status.busy": "2025-04-06T08:18:20.886872Z",
     "iopub.status.idle": "2025-04-06T08:18:21.563807Z",
     "shell.execute_reply": "2025-04-06T08:18:21.562775Z",
     "shell.execute_reply.started": "2025-04-06T08:18:20.887223Z"
    },
    "trusted": true
   },
   "outputs": [
    {
     "name": "stdout",
     "output_type": "stream",
     "text": [
      "0:\tlearn: 13.8281557\ttotal: 1.25ms\tremaining: 626ms\n",
      "100:\tlearn: 13.1312579\ttotal: 111ms\tremaining: 440ms\n",
      "200:\tlearn: 12.7140010\ttotal: 222ms\tremaining: 330ms\n",
      "300:\tlearn: 12.3119627\ttotal: 332ms\tremaining: 219ms\n",
      "400:\tlearn: 11.9232705\ttotal: 443ms\tremaining: 109ms\n",
      "499:\tlearn: 11.6308398\ttotal: 551ms\tremaining: 0us\n",
      "Submission file created successfully!\n"
     ]
    }
   ],
   "source": [
    "# Train the final model on all training data\n",
    "model_pipeline.fit(train_features, target)\n",
    "\n",
    "# Make predictions on the test set\n",
    "test_predictions = model_pipeline.predict(test_features)\n",
    "\n",
    "# Create submission file\n",
    "submission = pd.DataFrame({\n",
    "    'ID': test_id,\n",
    "    'Electrical conductivity (%IACS)': test_predictions\n",
    "})\n",
    "\n",
    "# Save the submission file\n",
    "submission.to_csv('submission.csv', index=False)\n",
    "print(\"Submission file created successfully!\")"
   ]
  },
  {
   "cell_type": "code",
   "execution_count": null,
   "metadata": {
    "trusted": true
   },
   "outputs": [],
   "source": []
  }
 ],
 "metadata": {
  "kaggle": {
   "accelerator": "none",
   "dataSources": [
    {
     "databundleVersionId": 11512563,
     "sourceId": 96349,
     "sourceType": "competition"
    }
   ],
   "dockerImageVersionId": 30918,
   "isGpuEnabled": false,
   "isInternetEnabled": false,
   "language": "python",
   "sourceType": "notebook"
  },
  "kernelspec": {
   "display_name": "Python 3 (ipykernel)",
   "language": "python",
   "name": "python3"
  }
 },
 "nbformat": 4,
 "nbformat_minor": 4
}
